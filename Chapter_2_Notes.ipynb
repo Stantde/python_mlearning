{
 "cells": [
  {
   "cell_type": "markdown",
   "id": "76cf28fe-4d9a-4e7c-b715-8422051ac226",
   "metadata": {},
   "source": [
    "# Numpy"
   ]
  },
  {
   "cell_type": "markdown",
   "id": "931da07d-c3d7-4390-b29b-83bb5f1767af",
   "metadata": {},
   "source": [
    "## Creating Arrays from Python Lists"
   ]
  },
  {
   "cell_type": "code",
   "execution_count": 1,
   "id": "b9304bec-3194-4aa6-b9c6-78318e9fb055",
   "metadata": {},
   "outputs": [
    {
     "data": {
      "text/plain": [
       "'2.0.2'"
      ]
     },
     "execution_count": 1,
     "metadata": {},
     "output_type": "execute_result"
    }
   ],
   "source": [
    "import numpy\n",
    "numpy.__version__"
   ]
  },
  {
   "cell_type": "code",
   "execution_count": 2,
   "id": "324a03e9-4662-4204-af5a-1a02736d541d",
   "metadata": {},
   "outputs": [],
   "source": [
    "import numpy as np"
   ]
  },
  {
   "cell_type": "code",
   "execution_count": 3,
   "id": "d9a3e14b-23d1-4708-bb43-a80810cdc264",
   "metadata": {
    "scrolled": true
   },
   "outputs": [
    {
     "data": {
      "text/plain": [
       "array([ 1.,  2.,  3., 56.], dtype=float32)"
      ]
     },
     "execution_count": 3,
     "metadata": {},
     "output_type": "execute_result"
    }
   ],
   "source": [
    "# To create an np array use np.array\n",
    "# Optionally, the dtype keyword can be used to explicitly set the data type\n",
    "np.array([1, 2, 3, 56], dtype=np.float32)"
   ]
  },
  {
   "cell_type": "code",
   "execution_count": 4,
   "id": "4e7f3fd5-801c-4919-9670-611154ac4ca1",
   "metadata": {
    "scrolled": true
   },
   "outputs": [
    {
     "name": "stdout",
     "output_type": "stream",
     "text": [
      "2 3 4 \n",
      "4 5 6 \n",
      "6 7 8 \n"
     ]
    },
    {
     "data": {
      "text/plain": [
       "array([[2, 3, 4],\n",
       "       [4, 5, 6],\n",
       "       [6, 7, 8]])"
      ]
     },
     "execution_count": 4,
     "metadata": {},
     "output_type": "execute_result"
    }
   ],
   "source": [
    "# np arrays can be multidimensional\n",
    "for i in [2, 4, 6]:\n",
    "    for a in range(i, i+3):\n",
    "        print(a, end=' ')\n",
    "    print()\n",
    "# Nested lists result in multidimensional arrays\n",
    "tmp = np.array([range(i, i + 3) for i in [2, 4, 6]])\n",
    "tmp\n",
    "# The inner lists are treated as rows in the resulting 2d array."
   ]
  },
  {
   "cell_type": "code",
   "execution_count": 5,
   "id": "f76e6826-98a6-43a7-aadc-fb25358069ab",
   "metadata": {
    "scrolled": true
   },
   "outputs": [
    {
     "name": "stdout",
     "output_type": "stream",
     "text": [
      "[2 3 4]\n",
      "[4 5 6]\n",
      "[2 4 6]\n",
      "[4 6 8]\n"
     ]
    }
   ],
   "source": [
    "# Print the first row\n",
    "# Expected [2, 3, 4]\n",
    "print(tmp[0])\n",
    "# Print the second row\n",
    "# Expected [4, 5, 6]\n",
    "print(tmp[1])\n",
    "# Print the first column\n",
    "# Expected [2, 4, 6]\n",
    "print(tmp[:,0])\n",
    "# Print the third column\n",
    "# Expected [4, 6, 8]\n",
    "print(tmp[:,2])"
   ]
  },
  {
   "cell_type": "markdown",
   "id": "22530a48-5c27-41ee-afb8-dc0d82255802",
   "metadata": {},
   "source": [
    "## Creating Arrays from Scratch"
   ]
  },
  {
   "cell_type": "code",
   "execution_count": 6,
   "id": "810c5035-d8b6-4b7b-87a1-9c25bb438d7a",
   "metadata": {},
   "outputs": [
    {
     "name": "stdout",
     "output_type": "stream",
     "text": [
      "zeroes: \n",
      "[0 0 0 0 0 0 0 0 0 0]\n",
      "ones: \n",
      "[[1. 1. 1. 1. 1.]\n",
      " [1. 1. 1. 1. 1.]\n",
      " [1. 1. 1. 1. 1.]]\n",
      "Pi s: \n",
      "[[3.14 3.14 3.14 3.14 3.14]\n",
      " [3.14 3.14 3.14 3.14 3.14]\n",
      " [3.14 3.14 3.14 3.14 3.14]]\n"
     ]
    }
   ],
   "source": [
    "# Create a length 10 int array filled with 0s.\n",
    "zeroes = np.zeros(10, dtype=int)\n",
    "\n",
    "# Create a 3x5 floating-point array filled with 1s.\n",
    "ones = np.ones((3,5), dtype=float)\n",
    "\n",
    "# Create a 3x5 array filled with 3.14\n",
    "pis = np.full((3,5), 3.14)\n",
    "\n",
    "print(f\"zeroes: \\n{zeroes}\")\n",
    "print(f\"ones: \\n{ones}\")\n",
    "print(f\"Pi s: \\n{pis}\")"
   ]
  },
  {
   "cell_type": "code",
   "execution_count": 7,
   "id": "5761cdbe-7427-4029-b56f-26766b2aa58a",
   "metadata": {},
   "outputs": [
    {
     "data": {
      "text/plain": [
       "array([[0, 0, 0, 0, 0],\n",
       "       [0, 0, 0, 0, 0],\n",
       "       [0, 0, 0, 0, 0]])"
      ]
     },
     "execution_count": 7,
     "metadata": {},
     "output_type": "execute_result"
    }
   ],
   "source": [
    "# Alt zeroes\n",
    "np.full((3,5), 0)\n",
    "# Why would I use np.zeroes over np.full(,0)?\n",
    "# The syntax loks simpler."
   ]
  },
  {
   "cell_type": "code",
   "execution_count": 8,
   "id": "01a0b151-caa7-4411-b64f-78450c306203",
   "metadata": {},
   "outputs": [
    {
     "data": {
      "text/plain": [
       "array([ 0,  2,  4,  6,  8, 10, 12, 14, 16, 18])"
      ]
     },
     "execution_count": 8,
     "metadata": {},
     "output_type": "execute_result"
    }
   ],
   "source": [
    "# Create an array filled with a linear sequence\n",
    "# starting at 0, ending at 20, stepping by 2\n",
    "# (this is similar to the built-in range function)\n",
    "np.arange(0, 20, 2)\n",
    "# Similiarly\n",
    "#np.array(range(0,20, 2))"
   ]
  },
  {
   "cell_type": "code",
   "execution_count": 9,
   "id": "893f416b-dea0-44eb-88a4-ac379997f2ef",
   "metadata": {},
   "outputs": [
    {
     "data": {
      "text/plain": [
       "array([2.36675e-316, 0.00000e+000, 1.58101e-322])"
      ]
     },
     "execution_count": 9,
     "metadata": {},
     "output_type": "execute_result"
    }
   ],
   "source": [
    "# Create an array of five values evenly spaced between 0 and 1\n",
    "np.linspace(0, 1, 5)\n",
    "# Create a 3x3 array of uniformly distributed\n",
    "# pseudorandom values between 0 and 1\n",
    "np.random.random((3, 3))\n",
    "# Create a 3x3 array of normally distributed pseudorandom\n",
    "# values with mean 0 and standard deviation 1\n",
    "np.random.normal(0, 1, (3, 3))\n",
    "# Create a 3x3 array of pseudorandom integers in the interval [0, 10)\n",
    "np.random.randint(0, 10, (3, 3))\n",
    "# Create an uninitialized array of three integers; the values will be\n",
    "# whatever happens to already exist at that memory location\n",
    "np.empty(3)"
   ]
  },
  {
   "cell_type": "markdown",
   "id": "c2dfa31b-ef0a-4a12-a954-2c28302b043f",
   "metadata": {},
   "source": [
    "### More on data types in Python Data Science Handook Chapter 2.01."
   ]
  },
  {
   "cell_type": "markdown",
   "id": "3b4aebae-9427-4069-97b7-6afd14cf80d0",
   "metadata": {},
   "source": [
    "## The Basics of NumPy Arrays"
   ]
  },
  {
   "cell_type": "code",
   "execution_count": null,
   "id": "a27a841f-ad67-487a-b364-ba1d5d0aaef6",
   "metadata": {},
   "outputs": [],
   "source": []
  },
  {
   "cell_type": "markdown",
   "id": "1d66b0ad-9af4-44c2-ac36-3636fc65db04",
   "metadata": {},
   "source": [
    "### Numpy Array Atrributes"
   ]
  },
  {
   "cell_type": "code",
   "execution_count": 49,
   "id": "5dfeb23c-94b7-4490-95ec-e68e1e6a7f33",
   "metadata": {},
   "outputs": [],
   "source": [
    "rng = np.random.default_rng(seed=1701)\n",
    "\n",
    "x1 = rng.integers(10, size=6)\n",
    "x2 = rng.integers(10, size=(3,4))\n",
    "x3 = rng.integers(10, size=(3,4,5))"
   ]
  },
  {
   "cell_type": "code",
   "execution_count": 11,
   "id": "74d8f2d3-b74e-4fce-96ff-4b6653c798bf",
   "metadata": {},
   "outputs": [
    {
     "name": "stdout",
     "output_type": "stream",
     "text": [
      "x3 ndim:   3\n",
      "x3 shape:  (3, 4, 5)\n",
      "x3 size:   60\n",
      "x3 dtype:  int64\n"
     ]
    }
   ],
   "source": [
    "print(\"x3 ndim:  \", x3.ndim)\n",
    "print(\"x3 shape: \", x3.shape)\n",
    "print(\"x3 size:  \", x3.size)\n",
    "print(\"x3 dtype: \", x3.dtype)"
   ]
  },
  {
   "cell_type": "markdown",
   "id": "06dc2d14-e283-4e25-a4ec-135d82557090",
   "metadata": {},
   "source": [
    "### Array Indexing: Accessing Single Elements"
   ]
  },
  {
   "cell_type": "markdown",
   "id": "8e672877-fbd0-4f6d-aab5-d3ef0728662d",
   "metadata": {},
   "source": [
    "Indexing in NumPy will feel quite familiar. In a one-dimensional \n",
    "array, the value (counting from zero) can be accessed by specifying the desired index in square brackets, just as with Python lists."
   ]
  },
  {
   "cell_type": "code",
   "execution_count": 12,
   "id": "87d9bd25-249e-4755-94e3-43cbe3ce41ba",
   "metadata": {},
   "outputs": [
    {
     "name": "stdout",
     "output_type": "stream",
     "text": [
      "[9 4 0 3 8 6]\n",
      "9\n",
      "To index from the end of the array, you can use negative indices:\n",
      "6\n"
     ]
    }
   ],
   "source": [
    "print(x1)\n",
    "print(x1[0])\n",
    "print(\"To index from the end of the array, you can use negative indices:\")\n",
    "print(x1[-1])"
   ]
  },
  {
   "cell_type": "markdown",
   "id": "16931a87-3343-40a9-8072-12bd3f325875",
   "metadata": {},
   "source": [
    "In a multidimensional array, items can be accessed using a comma-separated `(row, column)` tuple:"
   ]
  },
  {
   "cell_type": "markdown",
   "id": "e7e0007f-5c5d-4682-b8b5-edd783ae840e",
   "metadata": {},
   "source": [
    "Values can also be modified using any of the preceding index notation:"
   ]
  },
  {
   "cell_type": "code",
   "execution_count": 13,
   "id": "9c751e35-4208-431b-9e40-c96987dd3ce5",
   "metadata": {},
   "outputs": [
    {
     "name": "stdout",
     "output_type": "stream",
     "text": [
      "[[[4 3 5 5 0]\n",
      "  [8 3 5 2 2]\n",
      "  [1 8 8 5 3]\n",
      "  [0 0 8 5 8]]\n",
      "\n",
      " [[5 1 6 2 3]\n",
      "  [1 2 5 6 2]\n",
      "  [5 2 7 9 3]\n",
      "  [5 6 0 2 0]]\n",
      "\n",
      " [[2 9 4 3 9]\n",
      "  [9 2 2 4 0]\n",
      "  [0 3 0 0 2]\n",
      "  [3 2 7 4 7]]]\n",
      "[[5 1 6 2 3]\n",
      " [1 2 5 6 2]\n",
      " [5 2 7 9 3]\n",
      " [5 6 0 2 0]]\n",
      "[1 2 5 6 2]\n",
      "5\n"
     ]
    }
   ],
   "source": [
    "print(x3)\n",
    "print(x3[1])\n",
    "print(x3[1][1])\n",
    "print(x3[1][1][2])"
   ]
  },
  {
   "cell_type": "markdown",
   "id": "b2bb040e-fbff-4406-ad9d-4313e103cbc3",
   "metadata": {},
   "source": [
    "### Array Slicing: Accessing Subarrays"
   ]
  },
  {
   "cell_type": "markdown",
   "id": "7c4263be-9f06-4408-bef9-8c02ac84a5b7",
   "metadata": {},
   "source": [
    "Just as we can use square brackets to access individual array elements, we can also use them to access subarrays with the *slice* notation, marked by the colon (`:`) character.\n",
    "The NumPy slicing syntax follows that of the standard Python list; to access a slice of an array `x`, use this:\n",
    "``` python\n",
    "x[start:stop:step]\n",
    "```\n",
    "If any of these are unspecified, they default to the values `start=0`, `stop=<size of dimension>`, `step=1`.\n",
    "Let's look at some examples of accessing subarrays in one dimension and in multiple dimensions."
   ]
  },
  {
   "cell_type": "markdown",
   "id": "a6e917ad-0b26-4804-a5e4-1ab6e15f7693",
   "metadata": {},
   "source": [
    "#### One-Dimensional Subarrays"
   ]
  },
  {
   "cell_type": "code",
   "execution_count": 14,
   "id": "f90300a2-a524-49b9-9b15-bb1359589463",
   "metadata": {},
   "outputs": [
    {
     "name": "stdout",
     "output_type": "stream",
     "text": [
      "[9 4 0 3 8 6]\n",
      "[3 8 6]\n",
      "[4 0 3 8]\n",
      "[9 0 8]\n",
      "[4 3 6]\n",
      "[6 8 3 0 4 9]\n",
      "[8 0 9]\n"
     ]
    }
   ],
   "source": [
    "print(x1) # Array\n",
    "print(x1[3:]) # first 3 elements\n",
    "print(x1[1:5]) # middle sub array\n",
    "print(x1[::2]) # Every second element\n",
    "print(x1[1::2]) # Every second element starting at index 1\n",
    "print(x1[::-1]) # All elements reversed\n",
    "print(x1[4::-2])# Every second element from index 4 reversed."
   ]
  },
  {
   "cell_type": "markdown",
   "id": "dd22a1fd-eb44-4cc7-8924-65029d4e329b",
   "metadata": {},
   "source": [
    "#### Multidimensional Subarrays"
   ]
  },
  {
   "cell_type": "code",
   "execution_count": 15,
   "id": "a0ced6ba-c90a-494f-98e1-3b1cc8865a8f",
   "metadata": {},
   "outputs": [
    {
     "name": "stdout",
     "output_type": "stream",
     "text": [
      "[[3 1 3 7]\n",
      " [4 0 2 3]\n",
      " [0 0 6 9]]\n",
      "[[3 1 3]\n",
      " [4 0 2]]\n",
      "[[3 3]\n",
      " [4 2]\n",
      " [0 6]]\n",
      "[[9 6 0 0]\n",
      " [3 2 0 4]\n",
      " [7 3 1 3]]\n"
     ]
    }
   ],
   "source": [
    "#x2[0][0]=12\n",
    "print(x2)\n",
    "print(x2[:2, :3])# First two rows and three columns\n",
    "print(x2[:3, ::2])# Three rows, every second column\n",
    "print(x2[::-1, ::-1])# All rows and columns reversed"
   ]
  },
  {
   "cell_type": "code",
   "execution_count": 16,
   "id": "eb0628f1-8205-4203-b5d0-3e6d1a78cf8d",
   "metadata": {},
   "outputs": [
    {
     "name": "stdout",
     "output_type": "stream",
     "text": [
      "[3 4 0]\n",
      "[3 1 3 7]\n",
      "[3 1 3 7]\n"
     ]
    }
   ],
   "source": [
    "print(x2[:,0]) # first column of x2\n",
    "print(x2[0,:]) # first row of x2\n",
    "print(x2[0])   # equivalent to x2[0, :]"
   ]
  },
  {
   "cell_type": "markdown",
   "id": "80e821ab-4904-4c4e-b26e-23ebf4018d4a",
   "metadata": {},
   "source": [
    "#### Subarrays as No-Copy Views\n",
    "\n",
    "Unlike Python list slices, NumPy array slices are returned as *views* rather than *copies* of the array data.\n",
    "Consider our two-dimensional array from before:"
   ]
  },
  {
   "cell_type": "code",
   "execution_count": 17,
   "id": "f8633948-c459-4a66-b401-0a417475c7f9",
   "metadata": {},
   "outputs": [
    {
     "name": "stdout",
     "output_type": "stream",
     "text": [
      "[[3 1 3 7]\n",
      " [4 0 2 3]\n",
      " [0 0 6 9]]\n",
      "[[3 1]\n",
      " [4 0]]\n",
      "[[99  1]\n",
      " [ 4  0]]\n",
      "[[99  1  3  7]\n",
      " [ 4  0  2  3]\n",
      " [ 0  0  6  9]]\n"
     ]
    }
   ],
   "source": [
    "print(x2)\n",
    "x2_sub = x2[:2, :2]\n",
    "print(x2_sub)\n",
    "x2_sub[0, 0] = 99\n",
    "print(x2_sub)\n",
    "print(x2)"
   ]
  },
  {
   "cell_type": "markdown",
   "id": "07672c13-85ae-46b9-af68-9971ffc13996",
   "metadata": {},
   "source": [
    "#### Creating Copies of Arrays\n",
    "\n",
    "Despite the nice features of array views, it is sometimes useful to instead explicitly copy the data within an array or a subarray. This can be most easily done with the `copy` method:"
   ]
  },
  {
   "cell_type": "code",
   "execution_count": 18,
   "id": "23983605-c23d-44af-af3e-cc9cba50948d",
   "metadata": {},
   "outputs": [
    {
     "name": "stdout",
     "output_type": "stream",
     "text": [
      "[[99  1]\n",
      " [ 4  0]]\n",
      "[[42  1]\n",
      " [ 4  0]]\n",
      "[[99  1  3  7]\n",
      " [ 4  0  2  3]\n",
      " [ 0  0  6  9]]\n"
     ]
    }
   ],
   "source": [
    "x2_sub_copy = x2[:2, :2].copy()\n",
    "print(x2_sub_copy)\n",
    "x2_sub_copy[0, 0] = 42\n",
    "print(x2_sub_copy)\n",
    "print(x2)"
   ]
  },
  {
   "cell_type": "markdown",
   "id": "7bda0a05-0e15-4e89-9a74-27c92e3040ab",
   "metadata": {},
   "source": [
    "### Reshaping of Arrays\n",
    "Another useful type of operation is reshaping of arrays, which can be done with the `reshape` method.\n",
    "For example, if you want to put the numbers 1 through 9 in a $3 \\times 3$ grid, you can do the following:"
   ]
  },
  {
   "cell_type": "code",
   "execution_count": 19,
   "id": "6c3ecea5-ecd1-4900-b8ac-9117d8fde939",
   "metadata": {},
   "outputs": [
    {
     "name": "stdout",
     "output_type": "stream",
     "text": [
      "[[1 2 3]\n",
      " [4 5 6]\n",
      " [7 8 9]]\n"
     ]
    }
   ],
   "source": [
    "grid = np.arange(1, 10).reshape(3, 3)\n",
    "print(grid)"
   ]
  },
  {
   "cell_type": "markdown",
   "id": "653132fe-c613-4ebf-a8d4-50856f23f9fa",
   "metadata": {},
   "source": [
    "Note that for this to work, the size of the initial array must match the size of the reshaped array, and in most cases the `reshape` method will return a no-copy view of the initial array.\n",
    "\n",
    "A common reshaping operation is converting a one-dimensional array into a two-dimensional row or column matrix:"
   ]
  },
  {
   "cell_type": "code",
   "execution_count": 20,
   "id": "61512b30-632b-429c-8d71-43a35f4364b7",
   "metadata": {},
   "outputs": [
    {
     "data": {
      "text/plain": [
       "array([[1, 2, 3]])"
      ]
     },
     "execution_count": 20,
     "metadata": {},
     "output_type": "execute_result"
    }
   ],
   "source": [
    "x = np.array([1, 2, 3])\n",
    "x.reshape((1, 3))  # row vector via reshape"
   ]
  },
  {
   "cell_type": "code",
   "execution_count": 21,
   "id": "7faf003c-3f47-4df2-998e-8118f7dcc85b",
   "metadata": {},
   "outputs": [
    {
     "data": {
      "text/plain": [
       "array([[1],\n",
       "       [2],\n",
       "       [3]])"
      ]
     },
     "execution_count": 21,
     "metadata": {},
     "output_type": "execute_result"
    }
   ],
   "source": [
    "x.reshape((3, 1))  # column vector via reshape"
   ]
  },
  {
   "cell_type": "code",
   "execution_count": 22,
   "id": "78955c7e-c801-4ba3-ad9f-e66a8baf630f",
   "metadata": {},
   "outputs": [
    {
     "data": {
      "text/plain": [
       "array([[1, 2, 3]])"
      ]
     },
     "execution_count": 22,
     "metadata": {},
     "output_type": "execute_result"
    }
   ],
   "source": [
    "x[np.newaxis, :]  # row vector via newaxis"
   ]
  },
  {
   "cell_type": "code",
   "execution_count": 23,
   "id": "d6ffab48-cb7c-4314-a4be-a7f6b8269df8",
   "metadata": {},
   "outputs": [
    {
     "data": {
      "text/plain": [
       "array([[1],\n",
       "       [2],\n",
       "       [3]])"
      ]
     },
     "execution_count": 23,
     "metadata": {},
     "output_type": "execute_result"
    }
   ],
   "source": [
    "x[:, np.newaxis]  # column vector via newaxis"
   ]
  },
  {
   "cell_type": "markdown",
   "id": "3a147caa-df6b-4c67-abfd-d9bedf1e0fa6",
   "metadata": {},
   "source": [
    "### Array Concatentation and Splitting"
   ]
  },
  {
   "cell_type": "markdown",
   "id": "2da4813b-92df-40af-9fce-a1e0ee9c41c2",
   "metadata": {},
   "source": [
    "#### Concatenation of Arrays"
   ]
  },
  {
   "cell_type": "markdown",
   "id": "1d3d42df-c980-4b36-9063-add7a9600c09",
   "metadata": {},
   "source": [
    "Concatenation, or joining of two arrays in NumPy, is primarily accomplished using the routines `np.concatenate`, `np.vstack`, and `np.hstack`.\n",
    "`np.concatenate` takes a tuple or list of arrays as its first argument, as you can see here:"
   ]
  },
  {
   "cell_type": "code",
   "execution_count": 24,
   "id": "4f163a22-b884-4c84-826c-4750077c29f0",
   "metadata": {},
   "outputs": [
    {
     "name": "stdout",
     "output_type": "stream",
     "text": [
      "[1 2 3 3 2 1]\n",
      "[ 1  2  3  3  2  1 99 99 99]\n"
     ]
    }
   ],
   "source": [
    "x = np.array([1, 2, 3])\n",
    "y = np.array([3, 2, 1])\n",
    "print(np.concatenate([x, y]))\n",
    "z = np.array([99, 99, 99])\n",
    "print(np.concatenate([x, y, z]))"
   ]
  },
  {
   "cell_type": "code",
   "execution_count": 25,
   "id": "be844a51-d7c9-4214-906d-628eb5c1c85e",
   "metadata": {},
   "outputs": [
    {
     "name": "stdout",
     "output_type": "stream",
     "text": [
      "[[1 2 3]\n",
      " [4 5 6]\n",
      " [1 2 3]\n",
      " [4 5 6]]\n",
      "[[1 2 3 1 2 3]\n",
      " [4 5 6 4 5 6]]\n",
      "[[1 2 3]\n",
      " [4 5 6]\n",
      " [1 2 3]\n",
      " [4 5 6]]\n"
     ]
    }
   ],
   "source": [
    "grid = np.array([[1, 2, 3],\n",
    "                 [4, 5, 6]])\n",
    "# concatenate along the first axis\n",
    "print(np.concatenate([grid, grid]))\n",
    "# concatenate along the second axis (zero-indexed)\n",
    "print(np.concatenate([grid, grid], axis=1))\n",
    "# concatenate along the second axis (zero-indexed)\n",
    "print(np.concatenate([grid, grid], axis=0))"
   ]
  },
  {
   "cell_type": "markdown",
   "id": "6fbc382e-cad7-4b89-b0f5-f5b4a7350df3",
   "metadata": {},
   "source": [
    "For working with arrays of mixed dimensions, it can be clearer to use the `np.vstack` (vertical stack) and `np.hstack` (horizontal stack) functions:"
   ]
  },
  {
   "cell_type": "code",
   "execution_count": null,
   "id": "6f08ff3a-f151-4708-a95a-870897f30ed1",
   "metadata": {},
   "outputs": [],
   "source": [
    "# vertically stack the arrays\n",
    "print(np.vstack([x, grid]))\n",
    "# horizontally stack the arrays\n",
    "y = np.array([[99],\n",
    "              [99]])\n",
    "print(np.hstack([grid, y]))"
   ]
  },
  {
   "cell_type": "code",
   "execution_count": null,
   "id": "9c67dbfa-b5aa-458b-aeb1-a29203df89b7",
   "metadata": {},
   "outputs": [],
   "source": [
    "# Similarly, for higher-dimensional arrays, `np.dstack` will stack arrays along the third axis."
   ]
  },
  {
   "cell_type": "markdown",
   "id": "ddf86f9d-05fc-4c21-ab5d-d1b6b04153bf",
   "metadata": {},
   "source": [
    "#### Splitting of Arrays\n",
    "\n",
    "The opposite of concatenation is splitting, which is implemented by the functions `np.split`, `np.hsplit`, and `np.vsplit`.  For each of these, we can pass a list of indices giving the split points:"
   ]
  },
  {
   "cell_type": "code",
   "execution_count": null,
   "id": "40696dab-e7a1-47a1-8496-62ee61306e99",
   "metadata": {},
   "outputs": [],
   "source": [
    "foo = [1, 2, 3, 99, 99, 3, 2, 1]\n",
    "t, u, v = np.split(foo, [3, 5])\n",
    "print(t, u, v)"
   ]
  },
  {
   "cell_type": "code",
   "execution_count": null,
   "id": "41d91f4a-2873-4d60-b998-609da7e40bcd",
   "metadata": {},
   "outputs": [],
   "source": [
    "upper, lower = np.vsplit(grid, [2])\n",
    "print(upper)\n",
    "print(lower)\n",
    "left, right = np.hsplit(grid, [2])\n",
    "print(left)\n",
    "print(right)"
   ]
  },
  {
   "cell_type": "markdown",
   "id": "af33f98a-a8e6-4487-8f5e-54ac98f212c3",
   "metadata": {
    "jp-MarkdownHeadingCollapsed": true
   },
   "source": [
    "## 02.03 Computation on NumPy Arrays: Universal Functions\n",
    "\n",
    "Up until now, we have been discussing some of the basic nuts and bolts of NumPy. In the next few chapters, we will dive into the reasons that NumPy is so important in the Python data science world: namely, because it provides an easy and flexible interface to optimize computation with arrays of data.\n",
    "\n",
    "Computation on NumPy arrays can be very fast, or it can be very slow.\n",
    "The key to making it fast is to use vectorized operations, generally implemented through NumPy's *universal functions* (ufuncs).\n",
    "This chapter motivates the need for NumPy's ufuncs, which can be used to make repeated calculations on array elements much more efficient.\n",
    "It then introduces many of the most common and useful arithmetic ufuncs available in the NumPy package."
   ]
  },
  {
   "cell_type": "markdown",
   "id": "7e1fd39f-e3af-40bf-87c4-b868bca2b75b",
   "metadata": {},
   "source": [
    "## 02.04 Aggregations: min, max, and Everything in Between\n",
    "\n",
    "A first step in exploring any dataset is often to compute various summary statistics.\n",
    "Perhaps the most common summary statistics are the mean and standard deviation, which allow you to summarize the \"typical\" values in a dataset, but other aggregations are useful as well (the sum, product, median, minimum and maximum, quantiles, etc.).\n",
    "\n",
    "NumPy has fast built-in aggregation functions for working on arrays; we'll discuss and try out some of them here."
   ]
  },
  {
   "cell_type": "markdown",
   "id": "edce5c89-37a1-4a54-a9e7-248f8f0c9548",
   "metadata": {},
   "source": [
    "## 02.05 Computation on Arrays: Broadcasting\n",
    "\n",
    "The set of rules by which Numpy let's you apply binary operations such as addition and subtraction between arrays of different sizes and shapes.\n"
   ]
  },
  {
   "cell_type": "code",
   "execution_count": null,
   "id": "9dfc582f-f5f7-4137-a834-bceded61afb8",
   "metadata": {},
   "outputs": [],
   "source": [
    "a = np.array([0, 1, 2])\n",
    "b = np.array([5, 5, 5])\n",
    "print(a + b)\n",
    "print(a+5)"
   ]
  },
  {
   "cell_type": "markdown",
   "id": "18538466-6184-4979-8bec-1b3d981bc766",
   "metadata": {},
   "source": [
    "We can think of this as an operation that stretches or duplicates the value `5` into the array `[5, 5, 5]`, and adds the results."
   ]
  },
  {
   "cell_type": "code",
   "execution_count": null,
   "id": "45e25077-e868-4db4-9983-cdf55c9d3e0b",
   "metadata": {},
   "outputs": [],
   "source": [
    "M = np.ones((3, 3),dtype=\"int32\")\n",
    "print(M)\n",
    "print(M + a)"
   ]
  },
  {
   "cell_type": "code",
   "execution_count": null,
   "id": "0f72fbcf-c79e-422a-a22f-afdb525d1ecc",
   "metadata": {},
   "outputs": [],
   "source": [
    "a = np.arange(3)\n",
    "b = np.arange(3)[:, np.newaxis]\n",
    "\n",
    "print(a)\n",
    "print(b)\n",
    "a + b"
   ]
  },
  {
   "cell_type": "markdown",
   "id": "75af63e7-c3b0-40eb-9c9e-7a04d80dfc9a",
   "metadata": {},
   "source": [
    "### Rules of Broadcasting\n",
    "\n",
    "    Rule 1 - If the two arrays differ in their number of dimensions, the shape of the one with fewer dimensions is padded with ones on its leading (left) side.\n",
    "\n",
    "    Rule 2 - If the shape of the two arrays does not match in any dimension, the array with shape equal to 1 in that dimension is stretched to match the other shape.\n",
    "\n",
    "    Rule 3 - If in any dimension the sizes disagree and neither is equal to 1, an error is raised."
   ]
  },
  {
   "cell_type": "code",
   "execution_count": null,
   "id": "8e38cd4e-be0d-442e-9f1b-03c23c87e28e",
   "metadata": {},
   "outputs": [],
   "source": [
    "M = np.ones((2,3))\n",
    "print(M)\n",
    "a = np.arange(3)\n",
    "print(\"\\n\", a)\n",
    "print(f\"The shape of M is: {M.shape}.\")\n",
    "print(f\"The shape of a is: {a.shape}.\")\n",
    "# Rule 1\n",
    "print(f\"The shape of M+a is: {(M + a).shape}.\")"
   ]
  },
  {
   "cell_type": "code",
   "execution_count": null,
   "id": "be4ae498-519a-452d-8053-9d1a040b6363",
   "metadata": {},
   "outputs": [],
   "source": [
    "a = a.reshape((3,1))\n",
    "b = np.arange(3)\n",
    "print(a)\n",
    "print(f\"The shape of b is: {b.shape}.\")\n",
    "print(f\"The shape of a is: {a.shape}.\")\n",
    "# Rule 1\n",
    "print(f\"The shape of b+a is: {(b + a).shape}.\")"
   ]
  },
  {
   "cell_type": "markdown",
   "id": "afdd98fc-66f4-4507-86db-0a9d44ac435c",
   "metadata": {},
   "source": [
    "#### An In-Depth look into Broadcasting\n",
    "\n",
    "##### Shape Compatibility Rules\n",
    "\n",
    "    1. If x,y have a different number of dimensions, prepend 1s to the shape of the shorter.\n",
    "\n",
    "    2. Any axis of length 1 can be repeated (broadcast) to the length of the other vector's length in that axis.\n",
    "\n",
    "    3. All other axes must have matching lengths.\n",
    "\n",
    "The above rules are used to compute whether arrays are compatible and, if so, the broadcasted shape. They are also a restatement of the Rules of Broadcasting."
   ]
  },
  {
   "cell_type": "markdown",
   "id": "9265acb2-7f89-4123-a269-bdbc69af5796",
   "metadata": {},
   "source": [
    "Once shapes match, use for loop to understand:"
   ]
  },
  {
   "cell_type": "code",
   "execution_count": 27,
   "id": "6c99ea34-4175-441e-9a9a-01311d03f2ce",
   "metadata": {},
   "outputs": [
    {
     "name": "stdout",
     "output_type": "stream",
     "text": [
      "[[  1   2   3]\n",
      " [ 13  14  15]\n",
      " [106 107 108]]\n"
     ]
    }
   ],
   "source": [
    "#import numpy as np\n",
    "\n",
    "x_example = np.array([[0,1,2],[3,4,5],[6,7,8]]) #shape (3,3)\n",
    "y_example = np.array([1, 10, 100]).reshape(3,1) # shape (3,1)\n",
    "\n",
    "print(x_example+y_example)"
   ]
  },
  {
   "cell_type": "code",
   "execution_count": null,
   "id": "96f0c67b-b423-49af-99d7-baa3ec29a4f9",
   "metadata": {},
   "outputs": [],
   "source": [
    "# NOT what happens under the hood, but a way to conceptualize:\n",
    "# align\n",
    "# x_example        (3,3)\n",
    "# y_example        (3,1)\n",
    "shape = (3,3)\n",
    "out = np.empty(shape, dtype=int)\n",
    "N0, N1 = shape\n",
    "for i in range(N0):\n",
    "    for j in range(N1):\n",
    "        out[i,j] = x[i,j] + y[i,0]"
   ]
  },
  {
   "cell_type": "code",
   "execution_count": 29,
   "id": "be9d97b9-5161-4f81-95f7-23e8bde46e9b",
   "metadata": {},
   "outputs": [
    {
     "name": "stdout",
     "output_type": "stream",
     "text": [
      "[[[  1  11 102]\n",
      "  [  4  14 105]\n",
      "  [  7  17 108]]\n",
      "\n",
      " [[ 10  20 111]\n",
      "  [ 13  23 114]\n",
      "  [ 16  26 117]]]\n",
      "[[[  1  11 102]\n",
      "  [  4  14 105]\n",
      "  [  7  17 108]]\n",
      "\n",
      " [[ 10  20 111]\n",
      "  [ 13  23 114]\n",
      "  [ 16  26 117]]]\n"
     ]
    }
   ],
   "source": [
    "x_example = np.array([[[0,1,2],[3,4,5],[6,7,8]],[[9,10,11],[12,13,14],[15,16,17]]])\n",
    "# shape (2, 3, 3)\n",
    "y_example = np.array([1,10,100]) # shape (3)\n",
    "\n",
    "print(x_example + y_example)\n",
    "\n",
    "# align and prepend\n",
    "# x_example        (2,3,3)\n",
    "# y_example        (1,1,3)\n",
    "shape = (2,3,3)\n",
    "out = np.empty(shape, dtype=int)\n",
    "N0, N1, N2 = shape\n",
    "for i in range(N0):\n",
    "    for j in range(N1):\n",
    "        for k in range(N2):\n",
    "            # leave off prepended indicies\n",
    "            out[i,j, k] = x_example[i,j,k] + y_example[k]\n",
    "\n",
    "print(out)"
   ]
  },
  {
   "cell_type": "code",
   "execution_count": 31,
   "id": "36a5562f-b641-4c09-abc5-29aad5b86d4a",
   "metadata": {},
   "outputs": [
    {
     "name": "stdout",
     "output_type": "stream",
     "text": [
      "[[3 4 5]\n",
      " [4 5 6]\n",
      " [5 6 7]]\n",
      "[[3 4 5]\n",
      " [4 5 6]\n",
      " [5 6 7]]\n"
     ]
    }
   ],
   "source": [
    "x_example = np.array([[0],[1],[2]]) # shape (3, 1)\n",
    "y_example = np.array([[3,4,5]]) # shape (1, 3)\n",
    "\n",
    "print(x_example + y_example)\n",
    "\n",
    "# align and prepend\n",
    "# x_example        (3,1)\n",
    "# y_example        (1,3)\n",
    "shape = (3,3)\n",
    "out = np.empty(shape, dtype=int)\n",
    "N0, N1= shape\n",
    "for i in range(N0):\n",
    "    for j in range(N1):\n",
    "        # leave off prepended indicies\n",
    "        out[i,j] = x_example[i,0] + y_example[0,j]\n",
    "\n",
    "print(out)"
   ]
  },
  {
   "cell_type": "markdown",
   "id": "8f0d6ed2-02a3-4c05-935b-cc2993cab932",
   "metadata": {},
   "source": [
    "### Centering an Array"
   ]
  },
  {
   "cell_type": "code",
   "execution_count": 32,
   "id": "e0695208-b4de-4c36-b93f-f04a681b83b6",
   "metadata": {},
   "outputs": [],
   "source": [
    "rng = np.random.default_rng(seed=1701)\n",
    "X = rng.random((10, 3))"
   ]
  },
  {
   "cell_type": "code",
   "execution_count": 33,
   "id": "9c8e65de-291c-42f1-aab1-4f46f79756ec",
   "metadata": {},
   "outputs": [
    {
     "data": {
      "text/plain": [
       "array([0.38503638, 0.36991443, 0.63896043])"
      ]
     },
     "execution_count": 33,
     "metadata": {},
     "output_type": "execute_result"
    }
   ],
   "source": [
    "Xmean = X.mean(0)\n",
    "Xmean"
   ]
  },
  {
   "cell_type": "code",
   "execution_count": 34,
   "id": "738e5685-242e-4c48-b3b4-57bd53f03883",
   "metadata": {},
   "outputs": [],
   "source": [
    "X_centered = X - Xmean"
   ]
  },
  {
   "cell_type": "code",
   "execution_count": 35,
   "id": "e108452c-359f-4d3f-8a96-85dc91eec0ef",
   "metadata": {},
   "outputs": [
    {
     "data": {
      "text/plain": [
       "array([ 4.99600361e-17, -4.44089210e-17,  0.00000000e+00])"
      ]
     },
     "execution_count": 35,
     "metadata": {},
     "output_type": "execute_result"
    }
   ],
   "source": [
    "X_centered.mean(0)"
   ]
  },
  {
   "cell_type": "markdown",
   "id": "28603f89-869d-440a-8fdb-4c1630a360a1",
   "metadata": {},
   "source": [
    "### Plotting a Two-Dimensional Function"
   ]
  },
  {
   "cell_type": "code",
   "execution_count": 36,
   "id": "12590e96-952e-44c8-acf8-38cc6c282054",
   "metadata": {},
   "outputs": [],
   "source": [
    "# x and y have 50 steps from 0 to 5\n",
    "x = np.linspace(0, 5, 50)\n",
    "y = np.linspace(0, 5, 50)[:, np.newaxis]\n",
    "\n",
    "z = np.sin(x) ** 10 + np.cos(10 + y * x) * np.cos(x)"
   ]
  },
  {
   "cell_type": "code",
   "execution_count": 37,
   "id": "f8d0f8d1-8a10-4157-8840-a7654c31af3f",
   "metadata": {},
   "outputs": [
    {
     "data": {
      "image/png": "[encoded data removed]",
      "text/plain": [
       "<Figure size 640x480 with 2 Axes>"
      ]
     },
     "metadata": {},
     "output_type": "display_data"
    }
   ],
   "source": [
    "%matplotlib inline\n",
    "import matplotlib.pyplot as plt\n",
    "plt.imshow(z, origin='lower', extent=[0, 5, 0, 5])\n",
    "plt.colorbar();"
   ]
  },
  {
   "cell_type": "markdown",
   "id": "c0d385c2-1973-445e-ba28-ff76492df56e",
   "metadata": {},
   "source": [
    "## 02.06 Comparisons, Masks, and Boolean Logic\n",
    "\n",
    "This section covers the use of Boolean masks to examine and manipulate values within NumPy arrays.\n",
    "Masking comes up when you want to extract, modify, count, or otherwise manipulate values in an array based on some criterion: for example, you might wish to count all values greater than a certain value, or remove all outliers that are above some threshold.\n",
    "In NumPy, Boolean masking is often the most efficient way to accomplish these types of tasks.\n"
   ]
  },
  {
   "cell_type": "markdown",
   "id": "c6893ab7-b2d8-41af-9867-b9fc5ea86ba0",
   "metadata": {},
   "source": [
    "### Example: Counting Rainy Days"
   ]
  },
  {
   "cell_type": "code",
   "execution_count": 27,
   "id": "ca020c52-dbe5-4c7d-bf54-5ecd49f675bd",
   "metadata": {},
   "outputs": [
    {
     "data": {
      "text/plain": [
       "365"
      ]
     },
     "execution_count": 27,
     "metadata": {},
     "output_type": "execute_result"
    }
   ],
   "source": [
    "from vega_datasets import data\n",
    "\n",
    "# Use DataFrame operations to extract rainfall as a NumPy array\n",
    "rainfall_mm = np.array(\n",
    "    data.seattle_weather().set_index('date')['precipitation']['2015'])\n",
    "len(rainfall_mm)"
   ]
  },
  {
   "cell_type": "markdown",
   "id": "f9e86261-02ae-4e2d-b4b0-a80fc2877773",
   "metadata": {},
   "source": [
    "### Comparison Operators as Ufuncs\n",
    "\n"
   ]
  },
  {
   "cell_type": "code",
   "execution_count": 10,
   "id": "852e8cda-9a95-4984-839e-11120e69ae9b",
   "metadata": {},
   "outputs": [
    {
     "name": "stdout",
     "output_type": "stream",
     "text": [
      "x < 3 \n",
      " [ True  True False False False]\n",
      "np.less(x,3)\n",
      "[ True  True False False False]\n",
      "...And for equality,\n",
      "x < 3 == np.less(x,3) True\n",
      "x >= 3 \n",
      " [False False  True  True  True]\n"
     ]
    }
   ],
   "source": [
    "x = np.array([1, 2, 3, 4, 5])\n",
    "print(\"x < 3 \\n\", x < 3)   # less than\n",
    "print(f\"np.less(x,3)\\n{np.less(x,3)}\") # Equivalent to previous line\n",
    "print(\"...And for equality,\")\n",
    "print(f\"x < 3 == np.less(x,3) {np.equal(x<3,np.less(x,3)).all()}\")\n",
    "print(\"x >= 3 \\n\", x >= 3)   # less than"
   ]
  },
  {
   "cell_type": "code",
   "execution_count": 12,
   "id": "e53c6c15-1065-4a35-a8dd-6afb7570b0ef",
   "metadata": {},
   "outputs": [
    {
     "name": "stdout",
     "output_type": "stream",
     "text": [
      "[[9 4 0 3]\n",
      " [8 6 3 1]\n",
      " [3 7 4 0]]\n",
      "x<6\n",
      "[[False  True  True  True]\n",
      " [False False  True  True]\n",
      " [ True False  True  True]]\n"
     ]
    }
   ],
   "source": [
    "rng = np.random.default_rng(seed=1701)\n",
    "x = rng.integers(10, size=(3,4))\n",
    "print(x)\n",
    "print(f\"x<6\\n{np.less(x,6)}\")"
   ]
  },
  {
   "cell_type": "markdown",
   "id": "3d60ef5d-85aa-42d2-bcdb-59677509d958",
   "metadata": {},
   "source": [
    "### Working with Boolean Arrays\n",
    "#### Counting Entries\n",
    "Counting number of True entries"
   ]
  },
  {
   "cell_type": "code",
   "execution_count": 14,
   "id": "a2316e28-2780-4e91-9366-600cea787a46",
   "metadata": {},
   "outputs": [
    {
     "name": "stdout",
     "output_type": "stream",
     "text": [
      "np.count_nonzero(x<6)\n",
      "8\n",
      "np.count_nonzero(np.less(x,6))\n",
      "8\n"
     ]
    }
   ],
   "source": [
    "# how many values are less than 6?\n",
    "print(f\"np.count_nonzero(x<6)\\n{np.count_nonzero(x<6)}\")\n",
    "print(f\"np.count_nonzero(np.less(x,6))\\n{np.count_nonzero(np.less(x,6))}\")"
   ]
  },
  {
   "cell_type": "markdown",
   "id": "dce04d3b-b61d-45d0-bb85-5220f787102d",
   "metadata": {},
   "source": [
    "In the above, True evaluates to 1, and False evaluates to 0.\n",
    "Ex:"
   ]
  },
  {
   "cell_type": "code",
   "execution_count": 15,
   "id": "8d82c371-80cd-4430-a6cb-822bf945f5c5",
   "metadata": {},
   "outputs": [
    {
     "data": {
      "text/plain": [
       "np.int64(8)"
      ]
     },
     "execution_count": 15,
     "metadata": {},
     "output_type": "execute_result"
    }
   ],
   "source": [
    "np.sum(x<6)"
   ]
  },
  {
   "cell_type": "code",
   "execution_count": 24,
   "id": "28f9d94b-7430-47e0-abbc-b08436fcd9a5",
   "metadata": {},
   "outputs": [
    {
     "name": "stdout",
     "output_type": "stream",
     "text": [
      "True\n",
      "False\n",
      "True\n",
      "False\n",
      "False\n"
     ]
    }
   ],
   "source": [
    "# are there any values greater than 8?\n",
    "print(np.any(x > 8))\n",
    "# are there any values less than zero?\n",
    "print(np.any(x < 0))\n",
    "# are all values less than 10?\n",
    "print(np.all(x < 10))\n",
    "# are all values equal to 6?\n",
    "print(np.all(x == 6))\n",
    "# are all values in each row less than 8?\n",
    "print(np.all(x < 8, axis=1)) # This output is not as I expected\n",
    "print(np.all(x[0,:] < 8, axis=0)) # This is my expected output. How is my understanding flawed?"
   ]
  },
  {
   "cell_type": "markdown",
   "id": "1cce9ea5-490e-48b9-8391-59686f21193e",
   "metadata": {},
   "source": [
    "#### Boolean Operators\n",
    "\n"
   ]
  },
  {
   "cell_type": "code",
   "execution_count": 28,
   "id": "70a2469b-479e-4ff6-b763-385e9c5d25b6",
   "metadata": {},
   "outputs": [
    {
     "name": "stdout",
     "output_type": "stream",
     "text": [
      "Number days without rain:   221\n",
      "Number days with rain:      144\n",
      "Days with more than 10 mm:  34\n",
      "Rainy days with < 5 mm:     83\n"
     ]
    }
   ],
   "source": [
    "print(\"Number days without rain:  \", np.sum(rainfall_mm == 0))\n",
    "print(\"Number days with rain:     \", np.sum(rainfall_mm != 0))\n",
    "print(\"Days with more than 10 mm: \", np.sum(rainfall_mm > 10))\n",
    "print(\"Rainy days with < 5 mm:    \", np.sum((rainfall_mm > 0) &\n",
    "                                            (rainfall_mm < 5)))"
   ]
  },
  {
   "cell_type": "markdown",
   "id": "a017e387-fa29-446a-8a90-1c25d8a8f868",
   "metadata": {},
   "source": [
    "### Boolean Arrays as Masks\n",
    "\n",
    "In the preceding section we looked at aggregates computed directly on Boolean arrays.\n",
    "A more powerful pattern is to use Boolean arrays as masks, to select particular subsets of the data themselves."
   ]
  },
  {
   "cell_type": "code",
   "execution_count": 26,
   "id": "95f8844e-11b9-47c2-b7cc-160d3850c740",
   "metadata": {},
   "outputs": [
    {
     "name": "stdout",
     "output_type": "stream",
     "text": [
      "x<5\n",
      "[[False  True  True  True]\n",
      " [False False  True  True]\n",
      " [ True False  True  True]]\n",
      "x[x<5]\n",
      "[4 0 3 3 1 3 4 0]\n"
     ]
    }
   ],
   "source": [
    "# An array of all values in the array that are less than 5.\n",
    "print(f\"x<5\\n{x<5}\")\n",
    "# To select these values from the array, index into it.\n",
    "print(f\"x[x<5]\\n{x[x<5]}\")"
   ]
  },
  {
   "cell_type": "code",
   "execution_count": 30,
   "id": "f727faaf-1508-4a58-a8b6-1f5708f66c14",
   "metadata": {},
   "outputs": [
    {
     "name": "stdout",
     "output_type": "stream",
     "text": [
      "Median precip on rainy days in 2015 (mm):    3.8\n",
      "Median precip on summer days in 2015 (mm):   0.0\n",
      "Maximum precip on summer days in 2015 (mm):  32.5\n",
      "Median precip on non-summer rainy days (mm): 4.1\n"
     ]
    }
   ],
   "source": [
    "# construct a mask of all rainy days\n",
    "rainy = (rainfall_mm > 0)\n",
    "\n",
    "# construct a mask of all summer days (June 21st is the 172nd day)\n",
    "days = np.arange(365)\n",
    "summer = (days > 172) & (days < 262)\n",
    "\n",
    "print(\"Median precip on rainy days in 2015 (mm):   \",\n",
    "      np.median(rainfall_mm[rainy]))\n",
    "print(\"Median precip on summer days in 2015 (mm):  \",\n",
    "      np.median(rainfall_mm[summer]))\n",
    "print(\"Maximum precip on summer days in 2015 (mm): \",\n",
    "      np.max(rainfall_mm[summer]))\n",
    "print(\"Median precip on non-summer rainy days (mm):\",\n",
    "      np.median(rainfall_mm[rainy & ~summer]))"
   ]
  },
  {
   "cell_type": "markdown",
   "id": "6f477019-b125-46a5-a469-7eb90725744e",
   "metadata": {},
   "source": [
    "### Using the Keywords and/or Versus the Operators &/|\n",
    "\n",
    "The difference is this: `and` and `or` operate on the object as a whole, while `&` and `|` operate on the elements within the object."
   ]
  },
  {
   "cell_type": "markdown",
   "id": "b1452bee-f8c9-4f9b-ba8b-2221efaf2445",
   "metadata": {},
   "source": [
    "## 02.07 Fancy Indexing"
   ]
  },
  {
   "cell_type": "markdown",
   "id": "94576dec-6a1b-422a-b467-bcfa527232e1",
   "metadata": {},
   "source": [
    "### Exploring Fancy Indexing\n",
    "\n",
    "Fancy indexing is passing an array of indicies to access multiple array elements at once."
   ]
  },
  {
   "cell_type": "code",
   "execution_count": 53,
   "id": "f686704d-5793-44a7-971b-2c33f3096b92",
   "metadata": {},
   "outputs": [
    {
     "name": "stdout",
     "output_type": "stream",
     "text": [
      "[90 40  9 30 80 67 39 15 33 79]\n",
      "30 15 9\n",
      "equivalantly\n",
      "[30 15  9]\n",
      "In this case, the shape of the index is returned, not the shape of the\n",
      "\t original array.\n",
      "[[30 15]\n",
      " [80 67]]\n"
     ]
    }
   ],
   "source": [
    "rng = np.random.default_rng(seed=1701)\n",
    "x=rng.integers(100, size = 10)\n",
    "print(x)\n",
    "# To get specific elements by index, one could...\n",
    "print(x[3], x[7], x[2])\n",
    "print(\"equivalantly\")\n",
    "ind = [3,7,2]\n",
    "print(x[ind])\n",
    "ind = np.array([[3, 7],\n",
    "                [4, 5]])\n",
    "print(\"In this case, the shape of the index is returned, not the shape of the\\n\\t original array.\")\n",
    "print(x[ind])\n"
   ]
  },
  {
   "cell_type": "code",
   "execution_count": 38,
   "id": "e6e95a25-f3bc-4658-ae25-dbbd0529e591",
   "metadata": {},
   "outputs": [
    {
     "data": {
      "text/plain": [
       "array([[ 0,  1,  2,  3],\n",
       "       [ 4,  5,  6,  7],\n",
       "       [ 8,  9, 10, 11]])"
      ]
     },
     "execution_count": 38,
     "metadata": {},
     "output_type": "execute_result"
    }
   ],
   "source": [
    "X = np.arange(12).reshape((3, 4)) # This is CAPITAL X\n",
    "X"
   ]
  },
  {
   "cell_type": "code",
   "execution_count": 39,
   "id": "7e0592e0-3402-4066-a3fc-abde0f707c87",
   "metadata": {},
   "outputs": [
    {
     "data": {
      "text/plain": [
       "array([ 2,  5, 11])"
      ]
     },
     "execution_count": 39,
     "metadata": {},
     "output_type": "execute_result"
    }
   ],
   "source": [
    "row = np.array([0,1,2])\n",
    "col = np.array([2,1,3])\n",
    "X[row, col]"
   ]
  },
  {
   "cell_type": "code",
   "execution_count": 40,
   "id": "26e48bcd-e2bb-45f0-860e-e9d9c5f8f588",
   "metadata": {},
   "outputs": [
    {
     "data": {
      "text/plain": [
       "array([[ 2,  1,  3],\n",
       "       [ 6,  5,  7],\n",
       "       [10,  9, 11]])"
      ]
     },
     "execution_count": 40,
     "metadata": {},
     "output_type": "execute_result"
    }
   ],
   "source": [
    "# Broadcasting rules apply\n",
    "X[row[:,np.newaxis],col]"
   ]
  },
  {
   "cell_type": "markdown",
   "id": "a71474e4-07aa-443e-a3bb-9153b4d92e5d",
   "metadata": {},
   "source": [
    "### Combined Indexing"
   ]
  },
  {
   "cell_type": "code",
   "execution_count": 42,
   "id": "1a1ddc51-515c-4e28-a7ff-6a8d23e2d114",
   "metadata": {},
   "outputs": [
    {
     "name": "stdout",
     "output_type": "stream",
     "text": [
      "Fancy and simple indexing\n",
      "[10  8  9]\n",
      "Fancy and slicing\n",
      "[[ 6  4  5]\n",
      " [10  8  9]]\n",
      "Fancy and masking\n",
      "[[ 0  2]\n",
      " [ 4  6]\n",
      " [ 8 10]]\n"
     ]
    }
   ],
   "source": [
    "# Fancy and simple indexing\n",
    "print(\"Fancy and simple indexing\")\n",
    "print(X[2, [2, 0, 1]])\n",
    "# Fancy and slicing\n",
    "print(\"Fancy and slicing\")\n",
    "print(X[1:, [2, 0, 1]])\n",
    "# Fancy and masking\n",
    "print(\"Fancy and masking\")\n",
    "mask = np.array([True, False, True, False])\n",
    "print(X[row[:, np.newaxis], mask])"
   ]
  },
  {
   "cell_type": "markdown",
   "id": "cb148348-3fa6-4149-a536-4f001c1d17bc",
   "metadata": {},
   "source": [
    "### Example: Selecting Random Points\n",
    "\n",
    "One common use of fancy indexing is the selection of subsets of rows from a matrix.\n",
    "For example, we might have an $N$ by $D$ matrix representing $N$ points in $D$ dimensions, such as the following points drawn from a two-dimensional normal distribution:"
   ]
  },
  {
   "cell_type": "code",
   "execution_count": 54,
   "id": "49e2c14b-c3eb-47f1-8339-c11b5f1436fc",
   "metadata": {},
   "outputs": [
    {
     "data": {
      "text/plain": [
       "(100, 2)"
      ]
     },
     "execution_count": 54,
     "metadata": {},
     "output_type": "execute_result"
    }
   ],
   "source": [
    "mean = [0, 0]\n",
    "cov = [[1, 2],\n",
    "       [2, 5]]\n",
    "X = rng.multivariate_normal(mean, cov, 100)\n",
    "X.shape"
   ]
  },
  {
   "cell_type": "code",
   "execution_count": 46,
   "id": "08cb3a07-9c35-44d1-9996-2fa948f3e5e3",
   "metadata": {},
   "outputs": [
    {
     "data": {
      "image/png": "[encoded data removed]",
      "text/plain": [
       "<Figure size 640x480 with 1 Axes>"
      ]
     },
     "metadata": {},
     "output_type": "display_data"
    }
   ],
   "source": [
    "%matplotlib inline\n",
    "import matplotlib.pyplot as plt\n",
    "#plt.style.use('seaborn-whitegrid')#This line doesn't work due to different styles available\n",
    "\n",
    "plt.scatter(X[:, 0], X[:, 1]);"
   ]
  },
  {
   "cell_type": "code",
   "execution_count": 55,
   "id": "9319d07d-560b-40e0-a93c-7a5af3f03928",
   "metadata": {},
   "outputs": [
    {
     "name": "stdout",
     "output_type": "stream",
     "text": [
      "[32 98 89  9 41 62 54 53 38 44 60 92 13 68 79 48 31 75 81 80] \n",
      "\n",
      "(20, 2)\n"
     ]
    }
   ],
   "source": [
    "# Use fancy indexing to select 20 random points, non-repeating\n",
    "indices = np.random.choice(X.shape[0], 20, replace=False)\n",
    "print(indices, \"\\n\")\n",
    "\n",
    "# Use indices as a mask.\n",
    "\n",
    "selection = X[indices]\n",
    "print(selection.shape)"
   ]
  },
  {
   "cell_type": "code",
   "execution_count": 56,
   "id": "4a24e95e-24cd-4616-8426-55d7d679826a",
   "metadata": {},
   "outputs": [
    {
     "data": {
      "image/png": "[encoded data removed]",
      "text/plain": [
       "<Figure size 640x480 with 1 Axes>"
      ]
     },
     "metadata": {},
     "output_type": "display_data"
    }
   ],
   "source": [
    "plt.scatter(X[:, 0], X[:, 1], alpha=0.3)\n",
    "plt.scatter(selection[:, 0], selection[:, 1],\n",
    "            facecolor='none', edgecolor='black', s=200);"
   ]
  },
  {
   "cell_type": "markdown",
   "id": "5a8f15de-52d9-469f-93ff-84974e987094",
   "metadata": {},
   "source": [
    "This sort of strategy is often used to quickly partition datasets, as is often needed in train/test splitting for validation of statistical models, and in sampling approaches to answering statistical questions."
   ]
  },
  {
   "cell_type": "markdown",
   "id": "2bdbbcd6-bcf3-4c8c-a1f4-60f06e875772",
   "metadata": {},
   "source": [
    "### Modifying Values with Fancy Indexing\n",
    "\n",
    "Just as fancy indexing can be used to access parts of an array, it can also be used to modify parts of an array."
   ]
  },
  {
   "cell_type": "code",
   "execution_count": 58,
   "id": "cd638c5e-cbc5-4ac9-8e19-2d50715b9907",
   "metadata": {},
   "outputs": [
    {
     "name": "stdout",
     "output_type": "stream",
     "text": [
      "[ 0 99 99  3 99  5  6  7 99  9]\n",
      "[ 0 89 89  3 89  5  6  7 89  9]\n"
     ]
    }
   ],
   "source": [
    "x = np.arange(10)\n",
    "i = np.array([2, 1, 8, 4])\n",
    "x[i] = 99\n",
    "print(x)\n",
    "x[i] -= 10\n",
    "print(x)"
   ]
  },
  {
   "cell_type": "code",
   "execution_count": 59,
   "id": "4d691838-7248-44c1-b255-f5af3a1430b5",
   "metadata": {},
   "outputs": [
    {
     "name": "stdout",
     "output_type": "stream",
     "text": [
      "[6. 0. 0. 0. 0. 0. 0. 0. 0. 0.]\n"
     ]
    }
   ],
   "source": [
    "x = np.zeros(10)\n",
    "x[[0, 0]] = [4, 6]\n",
    "print(x)\n",
    "# x[0] becomes 4, then x[0] becomes 6."
   ]
  },
  {
   "cell_type": "code",
   "execution_count": 60,
   "id": "500d2267-f11a-4db5-a20d-4f6386eb366a",
   "metadata": {},
   "outputs": [
    {
     "data": {
      "text/plain": [
       "array([6., 0., 1., 1., 1., 0., 0., 0., 0., 0.])"
      ]
     },
     "execution_count": 60,
     "metadata": {},
     "output_type": "execute_result"
    }
   ],
   "source": [
    "i = [2, 3, 3, 4, 4, 4]\n",
    "x[i] += 1\n",
    "x\n",
    "#The assignment happens multiple times, not the augment.\n",
    "# For the augmenting behavior, use at"
   ]
  },
  {
   "cell_type": "code",
   "execution_count": 61,
   "id": "fbec7da1-22a5-4fa6-903d-4a63f92ce1c2",
   "metadata": {},
   "outputs": [
    {
     "name": "stdout",
     "output_type": "stream",
     "text": [
      "[0. 0. 1. 2. 3. 0. 0. 0. 0. 0.]\n"
     ]
    }
   ],
   "source": [
    "x = np.zeros(10)\n",
    "np.add.at(x, i, 1)\n",
    "print(x)"
   ]
  },
  {
   "cell_type": "markdown",
   "id": "c4a589f4-4946-453a-b22b-dab7d915f05a",
   "metadata": {},
   "source": [
    "### Example: Binning Data\n"
   ]
  },
  {
   "cell_type": "code",
   "execution_count": 62,
   "id": "dd2fdc63-9ee4-48e7-b6fc-6ec089387f53",
   "metadata": {},
   "outputs": [],
   "source": [
    "rng = np.random.default_rng(seed=1701)\n",
    "x = rng.normal(size=100)\n",
    "\n",
    "# compute a histogram by hand\n",
    "bins = np.linspace(-5, 5, 20)\n",
    "counts = np.zeros_like(bins)\n",
    "\n",
    "# find the appropriate bin for each x\n",
    "i = np.searchsorted(bins, x)\n",
    "\n",
    "# add 1 to each of these bins\n",
    "np.add.at(counts, i, 1)"
   ]
  },
  {
   "cell_type": "code",
   "execution_count": 63,
   "id": "e03ad0f8-4d95-4dbc-8cd3-8c0d35b268b2",
   "metadata": {},
   "outputs": [
    {
     "data": {
      "image/png": "[encoded data removed]",
      "text/plain": [
       "<Figure size 640x480 with 1 Axes>"
      ]
     },
     "metadata": {},
     "output_type": "display_data"
    }
   ],
   "source": [
    "# plot the results\n",
    "plt.plot(bins, counts, drawstyle='steps');"
   ]
  },
  {
   "cell_type": "markdown",
   "id": "1e0d025d-011d-4bf1-b1d9-579375c8b449",
   "metadata": {},
   "source": [
    "## 02.08 Sorting Arrays\n",
    "\n",
    "Up to this point we have been concerned mainly with tools to access and operate on array data with NumPy.\n",
    "This chapter covers algorithms related to sorting values in NumPy arrays.\n",
    "These algorithms are a favorite topic in introductory computer science courses: if you've ever taken one, you probably have had dreams (or, depending on your temperament, nightmares) about *insertion sorts*, *selection sorts*, *merge sorts*, *quick sorts*, *bubble sorts*, and many, many more.\n",
    "All are means of accomplishing a similar task: sorting the values in a list or array.\n",
    "\n",
    "Python has a couple of built-in functions and methods for sorting lists and other iterable objects. The `sorted` function accepts a list and returns a sorted version of it:\n",
    "\n",
    "### Fast Sorting in NumPy: np.sort and np.argsort\n",
    "\n",
    "The `np.sort` function is analogous to Python's built-in `sorted` function, and will efficiently return a sorted copy of an array.\n",
    "\n",
    "A related function is `argsort`, which instead returns the *indices* of the sorted elements:\n"
   ]
  },
  {
   "cell_type": "code",
   "execution_count": 64,
   "id": "9fd1339a-203b-4086-9ae2-7cea8e675a31",
   "metadata": {},
   "outputs": [
    {
     "name": "stdout",
     "output_type": "stream",
     "text": [
      "[1 2 3 4 5]\n"
     ]
    }
   ],
   "source": [
    "x = np.array([2, 1, 4, 3, 5])\n",
    "print(x[np.argsort(x)])"
   ]
  },
  {
   "cell_type": "markdown",
   "id": "510eb730-bfe1-419a-a8ba-9753ce7465d5",
   "metadata": {},
   "source": [
    "#### Sorting Along Rows or Columns"
   ]
  },
  {
   "cell_type": "code",
   "execution_count": 65,
   "id": "8eadcdbd-dbc2-4fc3-96bb-c551f0437627",
   "metadata": {},
   "outputs": [
    {
     "name": "stdout",
     "output_type": "stream",
     "text": [
      "[[0 7 6 4 4 8]\n",
      " [0 6 2 0 5 9]\n",
      " [7 7 7 7 5 1]\n",
      " [8 4 5 3 1 9]]\n"
     ]
    }
   ],
   "source": [
    "rng = np.random.default_rng(seed=42)\n",
    "X = rng.integers(0, 10, (4, 6))\n",
    "print(X)"
   ]
  },
  {
   "cell_type": "code",
   "execution_count": 66,
   "id": "93cf5940-7065-4354-904d-4aeb79db7d2b",
   "metadata": {},
   "outputs": [
    {
     "data": {
      "text/plain": [
       "array([[0, 4, 2, 0, 1, 1],\n",
       "       [0, 6, 5, 3, 4, 8],\n",
       "       [7, 7, 6, 4, 5, 9],\n",
       "       [8, 7, 7, 7, 5, 9]])"
      ]
     },
     "execution_count": 66,
     "metadata": {},
     "output_type": "execute_result"
    }
   ],
   "source": [
    "# sort each column of X\n",
    "np.sort(X, axis=0)"
   ]
  },
  {
   "cell_type": "code",
   "execution_count": 67,
   "id": "641b8db8-1859-4e39-a596-2efac7ebdee4",
   "metadata": {},
   "outputs": [
    {
     "data": {
      "text/plain": [
       "array([[0, 4, 4, 6, 7, 8],\n",
       "       [0, 0, 2, 5, 6, 9],\n",
       "       [1, 5, 7, 7, 7, 7],\n",
       "       [1, 3, 4, 5, 8, 9]])"
      ]
     },
     "execution_count": 67,
     "metadata": {},
     "output_type": "execute_result"
    }
   ],
   "source": [
    "# sort each row of X\n",
    "np.sort(X, axis=1)"
   ]
  },
  {
   "cell_type": "markdown",
   "id": "15ff76ae-c815-462b-8556-a11c3a4e0894",
   "metadata": {},
   "source": [
    "### Partial Sorts: Partitioning\n",
    "\n",
    "`np.partition` takes an array and a number *K*; the result is a new array with the smallest *K* values to the left of the partition and the remaining values to the right."
   ]
  },
  {
   "cell_type": "code",
   "execution_count": 68,
   "id": "0dbc1e09-14dd-4a00-9675-28cb8bea7e6b",
   "metadata": {},
   "outputs": [
    {
     "data": {
      "text/plain": [
       "array([2, 1, 3, 4, 6, 5, 7])"
      ]
     },
     "execution_count": 68,
     "metadata": {},
     "output_type": "execute_result"
    }
   ],
   "source": [
    "x = np.array([7, 2, 3, 1, 6, 5, 4])\n",
    "np.partition(x, 3)"
   ]
  },
  {
   "cell_type": "markdown",
   "id": "0a915182-71a4-4633-92d3-857e9ea945ca",
   "metadata": {},
   "source": [
    "Notice that the first three values in the resulting array are the three smallest in the array, and the remaining array positions contain the remaining values.\n",
    "Within the two partitions, the elements have arbitrary order.\n",
    "\n",
    "Similarly to sorting, we can partition along an arbitrary axis of a multidimensional array:"
   ]
  },
  {
   "cell_type": "code",
   "execution_count": 69,
   "id": "70b4a10a-ef9d-4e67-bd29-e0dca44c2647",
   "metadata": {},
   "outputs": [
    {
     "data": {
      "text/plain": [
       "array([[0, 4, 4, 7, 6, 8],\n",
       "       [0, 0, 2, 6, 5, 9],\n",
       "       [1, 5, 7, 7, 7, 7],\n",
       "       [1, 3, 4, 5, 8, 9]])"
      ]
     },
     "execution_count": 69,
     "metadata": {},
     "output_type": "execute_result"
    }
   ],
   "source": [
    "np.partition(X, 2, axis=1)"
   ]
  },
  {
   "cell_type": "code",
   "execution_count": 70,
   "id": "a21df006-ce33-4ae4-93de-499e68a942eb",
   "metadata": {},
   "outputs": [
    {
     "name": "stdout",
     "output_type": "stream",
     "text": [
      "[[0.64386512 0.82276161]\n",
      " [0.4434142  0.22723872]\n",
      " [0.55458479 0.06381726]\n",
      " [0.82763117 0.6316644 ]\n",
      " [0.75808774 0.35452597]\n",
      " [0.97069802 0.89312112]\n",
      " [0.7783835  0.19463871]\n",
      " [0.466721   0.04380377]\n",
      " [0.15428949 0.68304895]\n",
      " [0.74476216 0.96750973]]\n"
     ]
    }
   ],
   "source": [
    "X = rng.random((10, 2))\n",
    "print(X)"
   ]
  },
  {
   "cell_type": "code",
   "execution_count": 71,
   "id": "e40eecb5-e1cd-4d97-bbd8-812cb89c3424",
   "metadata": {},
   "outputs": [
    {
     "data": {
      "image/png": "[encoded data removed]",
      "text/plain": [
       "<Figure size 640x480 with 1 Axes>"
      ]
     },
     "metadata": {},
     "output_type": "display_data"
    }
   ],
   "source": [
    "%matplotlib inline\n",
    "import matplotlib.pyplot as plt\n",
    "plt.style.use('seaborn-v0_8-whitegrid')\n",
    "plt.scatter(X[:, 0], X[:, 1], s=100);"
   ]
  },
  {
   "cell_type": "markdown",
   "id": "2cd541de-8480-4784-b176-d824373bc376",
   "metadata": {},
   "source": [
    "Now we'll compute the distance between each pair of points.\n",
    "Recall that the squared distance between two points is the sum of the squared differences in each dimension;\n",
    "using the efficient broadcasting and aggregation routines provided by NumPy we can compute the matrix of square distances in a single line of code:"
   ]
  },
  {
   "cell_type": "code",
   "execution_count": 72,
   "id": "19384333-bc74-4a35-a507-55c7484aef24",
   "metadata": {},
   "outputs": [],
   "source": [
    "dist_sq = np.sum((X[:, np.newaxis] - X[np.newaxis, :]) ** 2, axis=-1)"
   ]
  },
  {
   "cell_type": "code",
   "execution_count": 73,
   "id": "670c07f6-0501-42e8-a976-0982d702b851",
   "metadata": {},
   "outputs": [
    {
     "name": "stdout",
     "output_type": "stream",
     "text": [
      "[[0 9 3 5 4 8 1 6 2 7]\n",
      " [1 7 2 6 4 8 3 0 9 5]\n",
      " [2 7 1 6 4 3 8 0 9 5]\n",
      " [3 0 4 5 9 6 1 2 8 7]\n",
      " [4 6 3 1 2 7 0 5 9 8]\n",
      " [5 9 3 0 4 6 8 1 2 7]\n",
      " [6 4 2 1 7 3 0 5 9 8]\n",
      " [7 2 1 6 4 3 8 0 9 5]\n",
      " [8 0 1 9 3 4 7 2 6 5]\n",
      " [9 0 5 3 4 8 6 1 2 7]]\n"
     ]
    }
   ],
   "source": [
    "nearest = np.argsort(dist_sq, axis=1)\n",
    "print(nearest)"
   ]
  },
  {
   "cell_type": "code",
   "execution_count": 74,
   "id": "69896f35-e3f7-467c-b02a-f817aef28f12",
   "metadata": {},
   "outputs": [],
   "source": [
    "K = 2\n",
    "nearest_partition = np.argpartition(dist_sq, K + 1, axis=1)"
   ]
  },
  {
   "cell_type": "code",
   "execution_count": 75,
   "id": "fbf94228-28cf-4d2a-8758-371348fb9d69",
   "metadata": {},
   "outputs": [
    {
     "data": {
      "image/png": "[encoded data removed]",
      "text/plain": [
       "<Figure size 640x480 with 1 Axes>"
      ]
     },
     "metadata": {},
     "output_type": "display_data"
    }
   ],
   "source": [
    "plt.scatter(X[:, 0], X[:, 1], s=100)\n",
    "\n",
    "# draw lines from each point to its two nearest neighbors\n",
    "K = 2\n",
    "\n",
    "for i in range(X.shape[0]):\n",
    "    for j in nearest_partition[i, :K+1]:\n",
    "        # plot a line from X[i] to X[j]\n",
    "        # use some zip magic to make it happen:\n",
    "        plt.plot(*zip(X[j], X[i]), color='black')"
   ]
  },
  {
   "cell_type": "markdown",
   "id": "804aef0f-63bd-4dc8-8d3a-57c3d43a1db6",
   "metadata": {},
   "source": [
    "## Structured Data: NumPy's Structured Arrays"
   ]
  },
  {
   "cell_type": "code",
   "execution_count": 76,
   "id": "8c8e175f-f185-409c-bcce-80024daea8b3",
   "metadata": {},
   "outputs": [],
   "source": [
    "name = ['Alice', 'Bob', 'Cathy', 'Doug']\n",
    "age = [25, 45, 37, 19]\n",
    "weight = [55.0, 85.5, 68.0, 61.5]"
   ]
  },
  {
   "cell_type": "code",
   "execution_count": 77,
   "id": "e3918855-a453-42c9-91e6-f692eab456ff",
   "metadata": {},
   "outputs": [
    {
     "name": "stdout",
     "output_type": "stream",
     "text": [
      "[('name', '<U10'), ('age', '<i4'), ('weight', '<f8')]\n"
     ]
    }
   ],
   "source": [
    "# Use a compound data type for structured arrays\n",
    "data = np.zeros(4, dtype={'names':('name', 'age', 'weight'),\n",
    "                          'formats':('U10', 'i4', 'f8')})\n",
    "print(data.dtype)"
   ]
  },
  {
   "cell_type": "code",
   "execution_count": 78,
   "id": "a4bae9e8-c48e-4070-94c3-4e0f1cb5f494",
   "metadata": {},
   "outputs": [
    {
     "name": "stdout",
     "output_type": "stream",
     "text": [
      "[('Alice', 25, 55. ) ('Bob', 45, 85.5) ('Cathy', 37, 68. )\n",
      " ('Doug', 19, 61.5)]\n"
     ]
    }
   ],
   "source": [
    "data['name'] = name\n",
    "data['age'] = age\n",
    "data['weight'] = weight\n",
    "print(data)"
   ]
  },
  {
   "cell_type": "code",
   "execution_count": 79,
   "id": "febd2748-5af2-43db-a89c-e78b47b433f7",
   "metadata": {},
   "outputs": [],
   "source": [
    "# Stop here...\n",
    "# Skpping on to Pandas."
   ]
  },
  {
   "cell_type": "markdown",
   "id": "1bd00c40-9f98-4e6d-bdb7-4db7257e57e5",
   "metadata": {},
   "source": [
    "# Rando notes"
   ]
  },
  {
   "cell_type": "code",
   "execution_count": null,
   "id": "2fd11f3c-7796-4336-ac8b-09e9173beccf",
   "metadata": {},
   "outputs": [],
   "source": [
    "np.arange(5)"
   ]
  },
  {
   "cell_type": "code",
   "execution_count": null,
   "id": "1e22d58b-ef0a-4f4b-9740-f6241dbcbcda",
   "metadata": {},
   "outputs": [],
   "source": [
    "np.arange(1,6)"
   ]
  },
  {
   "cell_type": "code",
   "execution_count": null,
   "id": "76650a3b-80bb-4b15-9053-ce5dc1df5f7f",
   "metadata": {},
   "outputs": [],
   "source": [
    "np.linspace(0, np.pi, 3)"
   ]
  },
  {
   "cell_type": "code",
   "execution_count": null,
   "id": "1cbe774b-a787-4d85-9961-fb9eb4d46e80",
   "metadata": {},
   "outputs": [],
   "source": [
    "np.linspace(0, np.pi)\n"
   ]
  },
  {
   "cell_type": "code",
   "execution_count": null,
   "id": "62a1b608-14c6-4dd1-a5ce-3a035093790b",
   "metadata": {},
   "outputs": [],
   "source": [
    "import pandas as pd\n",
    "data = pd.read_csv('data/president_heights.csv')\n",
    "heights = np.array(data['height(cm)'])\n",
    "print(heights)\n"
   ]
  },
  {
   "cell_type": "code",
   "execution_count": null,
   "id": "a203d9c9-902d-4924-9052-2e877877e257",
   "metadata": {
    "scrolled": true
   },
   "outputs": [],
   "source": [
    "print(data)"
   ]
  },
  {
   "cell_type": "code",
   "execution_count": null,
   "id": "cf32919e-ac12-40b3-bfb6-5f7693b4f6ea",
   "metadata": {},
   "outputs": [],
   "source": [
    "%matplotlib inline\n",
    "import matplotlib.pyplot as plt\n",
    "plt.style.use('seaborn-v0_8-whitegrid')"
   ]
  }
 ],
 "metadata": {
  "kernelspec": {
   "display_name": "Python 3 (ipykernel)",
   "language": "python",
   "name": "python3"
  },
  "language_info": {
   "codemirror_mode": {
    "name": "ipython",
    "version": 3
   },
   "file_extension": ".py",
   "mimetype": "text/x-python",
   "name": "python",
   "nbconvert_exporter": "python",
   "pygments_lexer": "ipython3",
   "version": "3.11.2"
  }
 },
 "nbformat": 4,
 "nbformat_minor": 5
}
