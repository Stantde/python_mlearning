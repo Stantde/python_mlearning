{
 "cells": [
  {
   "cell_type": "code",
   "execution_count": 2,
   "id": "c4f08686-4d0b-453a-9401-980468dc3147",
   "metadata": {},
   "outputs": [],
   "source": [
    "directory = !pwd"
   ]
  },
  {
   "cell_type": "code",
   "execution_count": 3,
   "id": "9402b820-ca77-46c1-a043-537b5235962b",
   "metadata": {},
   "outputs": [
    {
     "name": "stdout",
     "output_type": "stream",
     "text": [
      "['/home/demetrius/build/python_dev_space/machine_learning/PythonDataScienceHandbook/notebooks']\n"
     ]
    }
   ],
   "source": [
    "print(directory)"
   ]
  },
  {
   "cell_type": "code",
   "execution_count": 4,
   "id": "ae8b0279-a96f-47df-b5db-f48959abb68d",
   "metadata": {},
   "outputs": [],
   "source": [
    "message = \"hello from python\""
   ]
  },
  {
   "cell_type": "code",
   "execution_count": 5,
   "id": "d999d42c-36c2-4c48-be38-d490208d1227",
   "metadata": {},
   "outputs": [
    {
     "name": "stdout",
     "output_type": "stream",
     "text": [
      "hello from python\n"
     ]
    }
   ],
   "source": [
    "!echo {message}"
   ]
  },
  {
   "cell_type": "code",
   "execution_count": 6,
   "id": "784c59a0-9275-47bf-8b95-16d2fdd0d953",
   "metadata": {},
   "outputs": [
    {
     "name": "stdout",
     "output_type": "stream",
     "text": [
      "message\n"
     ]
    }
   ],
   "source": [
    "!echo message"
   ]
  },
  {
   "cell_type": "code",
   "execution_count": 7,
   "id": "3de10547-e92f-4448-86cc-c2d78bb1ecf4",
   "metadata": {},
   "outputs": [],
   "source": [
    "!echo {message} >> msg.txt\n"
   ]
  },
  {
   "cell_type": "code",
   "execution_count": 8,
   "id": "9ac20047-34a8-41f4-a140-1045f99ebf04",
   "metadata": {},
   "outputs": [
    {
     "name": "stdout",
     "output_type": "stream",
     "text": [
      "ls: cannot access 'ms': No such file or directory\n"
     ]
    }
   ],
   "source": [
    "!ls ms"
   ]
  },
  {
   "cell_type": "code",
   "execution_count": 9,
   "id": "c5a5fb9a-7e03-4ba0-8feb-bfe1d9c1fe30",
   "metadata": {},
   "outputs": [
    {
     "name": "stdout",
     "output_type": "stream",
     "text": [
      "msg.txt\n"
     ]
    }
   ],
   "source": [
    "contents = !ls\n",
    "for content in contents:\n",
    "    if content.startswith(\"ms\"):\n",
    "        print(content)\n",
    "    \n",
    "    "
   ]
  },
  {
   "cell_type": "code",
   "execution_count": 10,
   "id": "cfa9500c-358f-40d1-bf09-3a87360b85d6",
   "metadata": {},
   "outputs": [],
   "source": [
    "!rm msg.txt"
   ]
  },
  {
   "cell_type": "code",
   "execution_count": 11,
   "id": "1692c25b-71d6-4ec6-9e20-73010c4f5a97",
   "metadata": {},
   "outputs": [
    {
     "name": "stdout",
     "output_type": "stream",
     "text": [
      "\n",
      "Automagic is OFF, % prefix IS needed for line magics.\n"
     ]
    }
   ],
   "source": [
    "%automagic"
   ]
  },
  {
   "cell_type": "code",
   "execution_count": 12,
   "id": "f8cec5c6-0c2a-44b5-bd77-2e8a91301f2e",
   "metadata": {},
   "outputs": [
    {
     "ename": "NameError",
     "evalue": "name 'ls' is not defined",
     "output_type": "error",
     "traceback": [
      "\u001b[0;31m---------------------------------------------------------------------------\u001b[0m",
      "\u001b[0;31mNameError\u001b[0m                                 Traceback (most recent call last)",
      "Cell \u001b[0;32mIn[12], line 1\u001b[0m\n\u001b[0;32m----> 1\u001b[0m \u001b[43mls\u001b[49m\n",
      "\u001b[0;31mNameError\u001b[0m: name 'ls' is not defined"
     ]
    }
   ],
   "source": [
    "ls"
   ]
  },
  {
   "cell_type": "code",
   "execution_count": null,
   "id": "8a90e16a-a37b-4153-82e8-d678bf3846ea",
   "metadata": {},
   "outputs": [],
   "source": []
  }
 ],
 "metadata": {
  "kernelspec": {
   "display_name": "Python 3 (ipykernel)",
   "language": "python",
   "name": "python3"
  },
  "language_info": {
   "codemirror_mode": {
    "name": "ipython",
    "version": 3
   },
   "file_extension": ".py",
   "mimetype": "text/x-python",
   "name": "python",
   "nbconvert_exporter": "python",
   "pygments_lexer": "ipython3",
   "version": "3.13.1"
  }
 },
 "nbformat": 4,
 "nbformat_minor": 5
}
